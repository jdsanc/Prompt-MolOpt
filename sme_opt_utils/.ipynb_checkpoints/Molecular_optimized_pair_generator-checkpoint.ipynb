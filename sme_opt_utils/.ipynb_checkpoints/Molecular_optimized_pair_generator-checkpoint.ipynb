{
 "cells": [
  {
   "cell_type": "markdown",
   "id": "a78c0b1a",
   "metadata": {},
   "source": [
    "**<big><center>Constructing Optimized Molecular Pairs with SME</center></big>** <br />\n",
    "    Here, we'll briefly explain how to construct optimized molecular pairs using the Substructure Mask Explanation (SME) approach.<br />\n",
    "**1. Detect the substructure for modification.**<br />\n",
    "    The process begins with utilizing SME to identify the most suitable substructures within a molecule for modification. Taking the enhancement of hydrophilicity (ESOL) as an example, this involves pinpointing the least hydrophilic substructures within the molecule's structure. As illustrated below, within the molecule 'CC1CCC(C(C)C)C(O)C1', the isopropyl group is identified as the substructure for modification. This identification aligns with our understanding that the isopropyl group contributes to hydrophobicity, making it a target for modifications aimed at increasing the molecule's overall hydrophilicity."
   ]
  },
  {
   "cell_type": "code",
   "execution_count": 1,
   "id": "6a5b2d9d",
   "metadata": {},
   "outputs": [
    {
     "name": "stderr",
     "output_type": "stream",
     "text": [
      "Using backend: pytorch\n",
      "C:\\Users\\zhenxingwu\\anaconda3\\envs\\dgl071\\lib\\site-packages\\dgl\\base.py:45: DGLWarning: Recommend creating graphs by `dgl.graph(data)` instead of `dgl.DGLGraph(data)`.\n",
      "  return warnings.warn(message, category=category, stacklevel=1)\n"
     ]
    },
    {
     "name": "stdout",
     "output_type": "stream",
     "text": [
      "-2.63729875087738 *C(C)C 3 [5, 6, 7] -0.5560945034027099 1\n"
     ]
    },
    {
     "data": {
      "image/svg+xml": [
       "<svg baseProfile=\"full\" height=\"200px\" version=\"1.1\" viewBox=\"0 0 200 200\" width=\"200px\" xml:space=\"preserve\" xmlns=\"http://www.w3.org/2000/svg\" xmlns:rdkit=\"http://www.rdkit.org/xml\" xmlns:xlink=\"http://www.w3.org/1999/xlink\">\n",
       "<!-- END OF HEADER -->\n",
       "<rect height=\"200\" style=\"opacity:1.0;fill:#FFFFFF;stroke:none\" width=\"200\" x=\"0\" y=\"0\"> </rect>\n",
       "<path d=\"M 162.238,83.8895 L 183.24,115.974\" style=\"fill:none;fill-rule:evenodd;stroke:#FF7F7F;stroke-width:8.2px;stroke-linecap:butt;stroke-linejoin:miter;stroke-opacity:1\"/>\n",
       "<path d=\"M 162.238,83.8895 L 179.522,49.6591\" style=\"fill:none;fill-rule:evenodd;stroke:#FF7F7F;stroke-width:8.2px;stroke-linecap:butt;stroke-linejoin:miter;stroke-opacity:1\"/>\n",
       "<ellipse cx=\"162.238\" cy=\"83.8895\" rx=\"7.66936\" ry=\"7.66936\" style=\"fill:#FF7F7F;fill-rule:evenodd;stroke:#FF7F7F;stroke-width:1px;stroke-linecap:butt;stroke-linejoin:miter;stroke-opacity:1\"/>\n",
       "<ellipse cx=\"183.24\" cy=\"115.974\" rx=\"7.66936\" ry=\"7.66936\" style=\"fill:#FF7F7F;fill-rule:evenodd;stroke:#FF7F7F;stroke-width:1px;stroke-linecap:butt;stroke-linejoin:miter;stroke-opacity:1\"/>\n",
       "<ellipse cx=\"179.522\" cy=\"49.6591\" rx=\"7.66936\" ry=\"7.66936\" style=\"fill:#FF7F7F;fill-rule:evenodd;stroke:#FF7F7F;stroke-width:1px;stroke-linecap:butt;stroke-linejoin:miter;stroke-opacity:1\"/>\n",
       "<path class=\"bond-0\" d=\"M 9.09091,92.4747 L 47.3776,90.3284\" style=\"fill:none;fill-rule:evenodd;stroke:#000000;stroke-width:2.0px;stroke-linecap:butt;stroke-linejoin:miter;stroke-opacity:1\"/>\n",
       "<path class=\"bond-1\" d=\"M 47.3776,90.3284 L 64.6622,56.098\" style=\"fill:none;fill-rule:evenodd;stroke:#000000;stroke-width:2.0px;stroke-linecap:butt;stroke-linejoin:miter;stroke-opacity:1\"/>\n",
       "<path class=\"bond-10\" d=\"M 47.3776,90.3284 L 68.3797,122.412\" style=\"fill:none;fill-rule:evenodd;stroke:#000000;stroke-width:2.0px;stroke-linecap:butt;stroke-linejoin:miter;stroke-opacity:1\"/>\n",
       "<path class=\"bond-2\" d=\"M 64.6622,56.098 L 102.949,53.9517\" style=\"fill:none;fill-rule:evenodd;stroke:#000000;stroke-width:2.0px;stroke-linecap:butt;stroke-linejoin:miter;stroke-opacity:1\"/>\n",
       "<path class=\"bond-3\" d=\"M 102.949,53.9517 L 123.951,86.0358\" style=\"fill:none;fill-rule:evenodd;stroke:#000000;stroke-width:2.0px;stroke-linecap:butt;stroke-linejoin:miter;stroke-opacity:1\"/>\n",
       "<path class=\"bond-4\" d=\"M 123.951,86.0358 L 162.238,83.8895\" style=\"fill:none;fill-rule:evenodd;stroke:#000000;stroke-width:2.0px;stroke-linecap:butt;stroke-linejoin:miter;stroke-opacity:1\"/>\n",
       "<path class=\"bond-7\" d=\"M 123.951,86.0358 L 106.666,120.266\" style=\"fill:none;fill-rule:evenodd;stroke:#000000;stroke-width:2.0px;stroke-linecap:butt;stroke-linejoin:miter;stroke-opacity:1\"/>\n",
       "<path class=\"bond-5\" d=\"M 162.238,83.8895 L 183.24,115.974\" style=\"fill:none;fill-rule:evenodd;stroke:#000000;stroke-width:2.0px;stroke-linecap:butt;stroke-linejoin:miter;stroke-opacity:1\"/>\n",
       "<path class=\"bond-6\" d=\"M 162.238,83.8895 L 179.522,49.6591\" style=\"fill:none;fill-rule:evenodd;stroke:#000000;stroke-width:2.0px;stroke-linecap:butt;stroke-linejoin:miter;stroke-opacity:1\"/>\n",
       "<path class=\"bond-8\" d=\"M 106.666,120.266 L 115.056,133.083\" style=\"fill:none;fill-rule:evenodd;stroke:#000000;stroke-width:2.0px;stroke-linecap:butt;stroke-linejoin:miter;stroke-opacity:1\"/>\n",
       "<path class=\"bond-8\" d=\"M 115.056,133.083 L 123.446,145.9\" style=\"fill:none;fill-rule:evenodd;stroke:#FF0000;stroke-width:2.0px;stroke-linecap:butt;stroke-linejoin:miter;stroke-opacity:1\"/>\n",
       "<path class=\"bond-9\" d=\"M 106.666,120.266 L 68.3797,122.412\" style=\"fill:none;fill-rule:evenodd;stroke:#000000;stroke-width:2.0px;stroke-linecap:butt;stroke-linejoin:miter;stroke-opacity:1\"/>\n",
       "<path class=\"atom-9\" d=\"M 122.683 152.381 Q 122.683 149.773, 123.972 148.316 Q 125.26 146.859, 127.668 146.859 Q 130.077 146.859, 131.365 148.316 Q 132.654 149.773, 132.654 152.381 Q 132.654 155.019, 131.35 156.522 Q 130.046 158.01, 127.668 158.01 Q 125.276 158.01, 123.972 156.522 Q 122.683 155.035, 122.683 152.381 M 127.668 156.783 Q 129.325 156.783, 130.215 155.679 Q 131.12 154.559, 131.12 152.381 Q 131.12 150.249, 130.215 149.175 Q 129.325 148.086, 127.668 148.086 Q 126.012 148.086, 125.107 149.16 Q 124.217 150.234, 124.217 152.381 Q 124.217 154.574, 125.107 155.679 Q 126.012 156.783, 127.668 156.783 \" fill=\"#FF0000\"/>\n",
       "<path class=\"atom-9\" d=\"M 133.957 146.982 L 135.43 146.982 L 135.43 151.599 L 140.982 151.599 L 140.982 146.982 L 142.455 146.982 L 142.455 157.842 L 140.982 157.842 L 140.982 152.826 L 135.43 152.826 L 135.43 157.842 L 133.957 157.842 L 133.957 146.982 \" fill=\"#FF0000\"/>\n",
       "</svg>"
      ],
      "text/plain": [
       "<IPython.core.display.SVG object>"
      ]
     },
     "metadata": {},
     "output_type": "display_data"
    }
   ],
   "source": [
    "from opt_mol_pair_generator_double import SME_opt_sub_detect, sub_data_filter, sme_mol_opt\n",
    "import pickle as pkl\n",
    "import pandas as pd\n",
    "from rdkit import Chem\n",
    "from rdkit.Chem import Draw\n",
    "from rdkit.Chem.Draw import rdMolDraw2D\n",
    "from IPython.display import SVG\n",
    "from rdkit import Chem\n",
    "from rdkit.Chem import Draw\n",
    "from rdkit.Chem.Draw import rdMolDraw2D\n",
    "from IPython.display import SVG\n",
    "from rdkit import Chem\n",
    "from rdkit.Chem import Draw\n",
    "from rdkit.Chem.Draw import rdMolDraw2D\n",
    "from IPython.display import SVG\n",
    "import re\n",
    "import random\n",
    "\n",
    "random.seed(2046)\n",
    "def canonical_smi(smiles):\n",
    "    mol = Chem.MolFromSmiles(smiles, sanitize=False)\n",
    "    Chem.SanitizeMol(mol)\n",
    "    \n",
    "    atoms_marked_zero = [atom.GetIdx() for atom in mol.GetAtoms() if atom.GetAtomMapNum() == 0]\n",
    "    cleaned_smiles = re.sub(r'\\:\\d+\\]', ']', smiles)\n",
    "    return cleaned_smiles, atoms_marked_zero\n",
    "\n",
    "\n",
    "def mol_visualize(smi, remove_atom_index):\n",
    "    mol = Chem.MolFromSmiles(smi)  # 例如，使用苯的SMILES字符串\n",
    "\n",
    "    atoms_to_highlight = remove_atom_index\n",
    "\n",
    "    bonds_to_highlight = []\n",
    "    for bond in mol.GetBonds():\n",
    "        if bond.GetBeginAtomIdx() in atoms_to_highlight and bond.GetEndAtomIdx() in atoms_to_highlight:\n",
    "            bonds_to_highlight.append(bond.GetIdx())\n",
    "\n",
    "    drawer = rdMolDraw2D.MolDraw2DSVG(200, 200) \n",
    "    opts = drawer.drawOptions()\n",
    "\n",
    "    rdMolDraw2D.PrepareAndDrawMolecule(drawer, mol, highlightAtoms=atoms_to_highlight, highlightBonds=bonds_to_highlight)\n",
    "    drawer.FinishDrawing()\n",
    "\n",
    "    svg = drawer.GetDrawingText().replace('svg:', '')\n",
    "    display(SVG(svg))\n",
    "\n",
    "    \n",
    "model_name = 'ESOL'\n",
    "# load model hyperparameter\n",
    "with open('../result/hyperparameter_{}.pkl'.format(model_name), 'rb') as f:\n",
    "    hyperparameter = pkl.load(f)\n",
    "    \n",
    "# since the mode is higher(to improve the logS), we will use SME to detected the most  \n",
    "smi = 'CC1CCC(C(C)C)C(O)C1'\n",
    "mode = 'higher'\n",
    "sub_data = pd.read_csv('../prediction/summary/drugbank_ESOL_sub.csv')\n",
    "pred, rm_sub_smi, sub_atom_num, rm_atom_idx, sub_to_change_value, sub_connect_num\\\n",
    "    = SME_opt_sub_detect(smiles=smi, model_name=model_name,\n",
    "                         rgcn_hidden_feats=hyperparameter['rgcn_hidden_feats'],\n",
    "                         ffn_hidden_feats=hyperparameter['ffn_hidden_feats'],\n",
    "                         lr=hyperparameter['lr'], classification=hyperparameter['classification'], mode=mode)\n",
    "print(pred, rm_sub_smi, sub_atom_num, rm_atom_idx, sub_to_change_value, sub_connect_num)\n",
    "mol_visualize(smi, rm_atom_idx)"
   ]
  },
  {
   "cell_type": "markdown",
   "id": "348b9202",
   "metadata": {},
   "source": [
    "**2. Optimize the molecule through the substitution of substructures**<br />\n",
    "After identifying the substructures that require optimization, the process involves searching for more hydrophilic substructures within a pre-constructed Drugbank substructure dataset(with attribution) to replace the identified hydrophobic substructures. In selecting the optimized substructures, we consider detailed information such as the number of atoms in the substructures. For a more detailed selection process, please refer to the article. As shown below, in this case, the isopropyl group is replaced with a fluorine atom (F) to increase the molecule's hydrophilicity."
   ]
  },
  {
   "cell_type": "code",
   "execution_count": 2,
   "id": "3e9c99a3",
   "metadata": {},
   "outputs": [
    {
     "data": {
      "image/svg+xml": [
       "<svg baseProfile=\"full\" height=\"200px\" version=\"1.1\" viewBox=\"0 0 200 200\" width=\"200px\" xml:space=\"preserve\" xmlns=\"http://www.w3.org/2000/svg\" xmlns:rdkit=\"http://www.rdkit.org/xml\" xmlns:xlink=\"http://www.w3.org/1999/xlink\">\n",
       "<!-- END OF HEADER -->\n",
       "<rect height=\"200\" style=\"opacity:1.0;fill:#FFFFFF;stroke:none\" width=\"200\" x=\"0\" y=\"0\"> </rect>\n",
       "<ellipse cx=\"182.029\" cy=\"134.541\" rx=\"8.88028\" ry=\"8.89149\" style=\"fill:#FF7F7F;fill-rule:evenodd;stroke:#FF7F7F;stroke-width:1px;stroke-linecap:butt;stroke-linejoin:miter;stroke-opacity:1\"/>\n",
       "<path class=\"bond-0\" d=\"M 177.18,133.407 L 157.987,128.918\" style=\"fill:none;fill-rule:evenodd;stroke:#33CCCC;stroke-width:2.0px;stroke-linecap:butt;stroke-linejoin:miter;stroke-opacity:1\"/>\n",
       "<path class=\"bond-0\" d=\"M 157.987,128.918 L 138.794,124.428\" style=\"fill:none;fill-rule:evenodd;stroke:#000000;stroke-width:2.0px;stroke-linecap:butt;stroke-linejoin:miter;stroke-opacity:1\"/>\n",
       "<path class=\"bond-1\" d=\"M 138.794,124.428 L 108.419,156.814\" style=\"fill:none;fill-rule:evenodd;stroke:#000000;stroke-width:2.0px;stroke-linecap:butt;stroke-linejoin:miter;stroke-opacity:1\"/>\n",
       "<path class=\"bond-8\" d=\"M 138.794,124.428 L 125.935,81.9299\" style=\"fill:none;fill-rule:evenodd;stroke:#000000;stroke-width:2.0px;stroke-linecap:butt;stroke-linejoin:miter;stroke-opacity:1\"/>\n",
       "<path class=\"bond-2\" d=\"M 108.419,156.814 L 65.1849,146.702\" style=\"fill:none;fill-rule:evenodd;stroke:#000000;stroke-width:2.0px;stroke-linecap:butt;stroke-linejoin:miter;stroke-opacity:1\"/>\n",
       "<path class=\"bond-3\" d=\"M 65.1849,146.702 L 52.3254,104.203\" style=\"fill:none;fill-rule:evenodd;stroke:#000000;stroke-width:2.0px;stroke-linecap:butt;stroke-linejoin:miter;stroke-opacity:1\"/>\n",
       "<path class=\"bond-4\" d=\"M 52.3254,104.203 L 9.09091,94.0908\" style=\"fill:none;fill-rule:evenodd;stroke:#000000;stroke-width:2.0px;stroke-linecap:butt;stroke-linejoin:miter;stroke-opacity:1\"/>\n",
       "<path class=\"bond-5\" d=\"M 52.3254,104.203 L 82.7003,71.8174\" style=\"fill:none;fill-rule:evenodd;stroke:#000000;stroke-width:2.0px;stroke-linecap:butt;stroke-linejoin:miter;stroke-opacity:1\"/>\n",
       "<path class=\"bond-6\" d=\"M 82.7003,71.8174 L 125.935,81.9299\" style=\"fill:none;fill-rule:evenodd;stroke:#000000;stroke-width:2.0px;stroke-linecap:butt;stroke-linejoin:miter;stroke-opacity:1\"/>\n",
       "<path class=\"bond-7\" d=\"M 125.935,81.9299 L 137.681,69.4059\" style=\"fill:none;fill-rule:evenodd;stroke:#000000;stroke-width:2.0px;stroke-linecap:butt;stroke-linejoin:miter;stroke-opacity:1\"/>\n",
       "<path class=\"bond-7\" d=\"M 137.681,69.4059 L 149.427,56.8819\" style=\"fill:none;fill-rule:evenodd;stroke:#FF0000;stroke-width:2.0px;stroke-linecap:butt;stroke-linejoin:miter;stroke-opacity:1\"/>\n",
       "<path class=\"atom-0\" d=\"M 178.29 128.254 L 185.767 128.254 L 185.767 129.692 L 179.977 129.692 L 179.977 133.511 L 185.128 133.511 L 185.128 134.967 L 179.977 134.967 L 179.977 140.828 L 178.29 140.828 L 178.29 128.254 \" fill=\"#33CCCC\"/>\n",
       "<path class=\"atom-8\" d=\"M 150.538 49.5796 Q 150.538 46.5603, 152.029 44.873 Q 153.521 43.1858, 156.31 43.1858 Q 159.098 43.1858, 160.59 44.873 Q 162.082 46.5603, 162.082 49.5796 Q 162.082 52.6344, 160.572 54.3749 Q 159.063 56.0977, 156.31 56.0977 Q 153.539 56.0977, 152.029 54.3749 Q 150.538 52.6521, 150.538 49.5796 M 156.31 54.6768 Q 158.228 54.6768, 159.258 53.3981 Q 160.306 52.1016, 160.306 49.5796 Q 160.306 47.1108, 159.258 45.8676 Q 158.228 44.6066, 156.31 44.6066 Q 154.392 44.6066, 153.344 45.8498 Q 152.314 47.0931, 152.314 49.5796 Q 152.314 52.1193, 153.344 53.3981 Q 154.392 54.6768, 156.31 54.6768 \" fill=\"#FF0000\"/>\n",
       "<path class=\"atom-8\" d=\"M 163.592 43.3278 L 165.297 43.3278 L 165.297 48.6738 L 171.726 48.6738 L 171.726 43.3278 L 173.431 43.3278 L 173.431 55.9023 L 171.726 55.9023 L 171.726 50.0946 L 165.297 50.0946 L 165.297 55.9023 L 163.592 55.9023 L 163.592 43.3278 \" fill=\"#FF0000\"/>\n",
       "</svg>"
      ],
      "text/plain": [
       "<IPython.core.display.SVG object>"
      ]
     },
     "metadata": {},
     "output_type": "display_data"
    }
   ],
   "source": [
    "opt_sub_smi, opt_sub_smi_attri = sub_data_filter(sub_data, rm_sub_smi, sub_atom_num, sub_to_change_value, sub_connect_num, mode=mode)\n",
    "origin_smi, _, sub_change, optimized_mol_smi = sme_mol_opt(smi, 0, rm_atom_idx, rm_sub_smi, opt_sub_smi, sub_num=1)\n",
    "cleaned_smi, atom_idx = canonical_smi(optimized_mol_smi[0])\n",
    "mol_visualize(cleaned_smi, atom_idx)"
   ]
  },
  {
   "cell_type": "markdown",
   "id": "2512667f",
   "metadata": {},
   "source": [
    "**3. Use the prediction model to validate optimized molecular pairs to ensure they meet our requirements**<br />\n",
    "Using the ESOL model for prediction, it was observed that after optimization, the molecule's ESOL value improved from -2.637 to -0.962, indicating an enhancement in the molecule's hydrophilicity. This change, with a difference greater than 0.5, meets our predefined threshold for ESOL molecular optimization. Consequently, we have successfully constructed a pair of molecules optimized for ESOL.\n",
    "![Image text](../figure/example1.svg)"
   ]
  },
  {
   "cell_type": "markdown",
   "id": "b5630870",
   "metadata": {},
   "source": [
    "**Repeat the aforementioned steps to generate new optimized molecular pairs**<br />\n",
    "Using the optimized molecule as the starting point, we can repeat the aforementioned steps to generate new optimized molecular pairs. "
   ]
  },
  {
   "cell_type": "code",
   "execution_count": 3,
   "id": "72a5a010",
   "metadata": {},
   "outputs": [
    {
     "name": "stdout",
     "output_type": "stream",
     "text": [
      "-0.9618239492177963 *C 1 [5] -0.3593772709369659 1\n"
     ]
    },
    {
     "data": {
      "image/svg+xml": [
       "<svg baseProfile=\"full\" height=\"200px\" version=\"1.1\" viewBox=\"0 0 200 200\" width=\"200px\" xml:space=\"preserve\" xmlns=\"http://www.w3.org/2000/svg\" xmlns:rdkit=\"http://www.rdkit.org/xml\" xmlns:xlink=\"http://www.w3.org/1999/xlink\">\n",
       "<!-- END OF HEADER -->\n",
       "<rect height=\"200\" style=\"opacity:1.0;fill:#FFFFFF;stroke:none\" width=\"200\" x=\"0\" y=\"0\"> </rect>\n",
       "<ellipse cx=\"17.7923\" cy=\"94.2099\" rx=\"8.70136\" ry=\"8.70136\" style=\"fill:#FF7F7F;fill-rule:evenodd;stroke:#FF7F7F;stroke-width:1px;stroke-linecap:butt;stroke-linejoin:miter;stroke-opacity:1\"/>\n",
       "<path class=\"bond-0\" d=\"M 182.495,132.734 L 163.689,128.335\" style=\"fill:none;fill-rule:evenodd;stroke:#33CCCC;stroke-width:2.0px;stroke-linecap:butt;stroke-linejoin:miter;stroke-opacity:1\"/>\n",
       "<path class=\"bond-0\" d=\"M 163.689,128.335 L 144.882,123.936\" style=\"fill:none;fill-rule:evenodd;stroke:#000000;stroke-width:2.0px;stroke-linecap:butt;stroke-linejoin:miter;stroke-opacity:1\"/>\n",
       "<path class=\"bond-1\" d=\"M 144.882,123.936 L 115.12,155.67\" style=\"fill:none;fill-rule:evenodd;stroke:#000000;stroke-width:2.0px;stroke-linecap:butt;stroke-linejoin:miter;stroke-opacity:1\"/>\n",
       "<path class=\"bond-8\" d=\"M 144.882,123.936 L 132.282,82.294\" style=\"fill:none;fill-rule:evenodd;stroke:#000000;stroke-width:2.0px;stroke-linecap:butt;stroke-linejoin:miter;stroke-opacity:1\"/>\n",
       "<path class=\"bond-2\" d=\"M 115.12,155.67 L 72.7561,145.761\" style=\"fill:none;fill-rule:evenodd;stroke:#000000;stroke-width:2.0px;stroke-linecap:butt;stroke-linejoin:miter;stroke-opacity:1\"/>\n",
       "<path class=\"bond-3\" d=\"M 72.7561,145.761 L 60.1557,104.119\" style=\"fill:none;fill-rule:evenodd;stroke:#000000;stroke-width:2.0px;stroke-linecap:butt;stroke-linejoin:miter;stroke-opacity:1\"/>\n",
       "<path class=\"bond-4\" d=\"M 60.1557,104.119 L 17.7923,94.2099\" style=\"fill:none;fill-rule:evenodd;stroke:#000000;stroke-width:2.0px;stroke-linecap:butt;stroke-linejoin:miter;stroke-opacity:1\"/>\n",
       "<path class=\"bond-5\" d=\"M 60.1557,104.119 L 89.9186,72.3853\" style=\"fill:none;fill-rule:evenodd;stroke:#000000;stroke-width:2.0px;stroke-linecap:butt;stroke-linejoin:miter;stroke-opacity:1\"/>\n",
       "<path class=\"bond-6\" d=\"M 89.9186,72.3853 L 132.282,82.294\" style=\"fill:none;fill-rule:evenodd;stroke:#000000;stroke-width:2.0px;stroke-linecap:butt;stroke-linejoin:miter;stroke-opacity:1\"/>\n",
       "<path class=\"bond-7\" d=\"M 132.282,82.294 L 143.792,70.0223\" style=\"fill:none;fill-rule:evenodd;stroke:#000000;stroke-width:2.0px;stroke-linecap:butt;stroke-linejoin:miter;stroke-opacity:1\"/>\n",
       "<path class=\"bond-7\" d=\"M 143.792,70.0223 L 155.301,57.7506\" style=\"fill:none;fill-rule:evenodd;stroke:#FF0000;stroke-width:2.0px;stroke-linecap:butt;stroke-linejoin:miter;stroke-opacity:1\"/>\n",
       "<path class=\"atom-0\" d=\"M 183.583 127.684 L 190.909 127.684 L 190.909 129.094 L 185.236 129.094 L 185.236 132.836 L 190.283 132.836 L 190.283 134.263 L 185.236 134.263 L 185.236 140.005 L 183.583 140.005 L 183.583 127.684 \" fill=\"#33CCCC\"/>\n",
       "<path class=\"atom-8\" d=\"M 156.389 50.5954 Q 156.389 47.637, 157.851 45.9837 Q 159.313 44.3304, 162.045 44.3304 Q 164.777 44.3304, 166.239 45.9837 Q 167.701 47.637, 167.701 50.5954 Q 167.701 53.5887, 166.222 55.2942 Q 164.742 56.9822, 162.045 56.9822 Q 159.33 56.9822, 157.851 55.2942 Q 156.389 53.6061, 156.389 50.5954 M 162.045 55.59 Q 163.924 55.59, 164.934 54.337 Q 165.961 53.0666, 165.961 50.5954 Q 165.961 48.1764, 164.934 46.9583 Q 163.924 45.7227, 162.045 45.7227 Q 160.165 45.7227, 159.139 46.9409 Q 158.129 48.159, 158.129 50.5954 Q 158.129 53.084, 159.139 54.337 Q 160.165 55.59, 162.045 55.59 \" fill=\"#FF0000\"/>\n",
       "<path class=\"atom-8\" d=\"M 169.18 44.4697 L 170.851 44.4697 L 170.851 49.7079 L 177.15 49.7079 L 177.15 44.4697 L 178.821 44.4697 L 178.821 56.7908 L 177.15 56.7908 L 177.15 51.1001 L 170.851 51.1001 L 170.851 56.7908 L 169.18 56.7908 L 169.18 44.4697 \" fill=\"#FF0000\"/>\n",
       "</svg>"
      ],
      "text/plain": [
       "<IPython.core.display.SVG object>"
      ]
     },
     "metadata": {},
     "output_type": "display_data"
    }
   ],
   "source": [
    "smi = cleaned_smi\n",
    "pred, rm_sub_smi, sub_atom_num, rm_atom_idx, sub_to_change_value, sub_connect_num\\\n",
    "    = SME_opt_sub_detect(smiles=smi, model_name=model_name,\n",
    "                         rgcn_hidden_feats=hyperparameter['rgcn_hidden_feats'],\n",
    "                         ffn_hidden_feats=hyperparameter['ffn_hidden_feats'],\n",
    "                         lr=hyperparameter['lr'], classification=hyperparameter['classification'], mode=mode)\n",
    "print(pred, rm_sub_smi, sub_atom_num, rm_atom_idx, sub_to_change_value, sub_connect_num)\n",
    "mol_visualize(smi, rm_atom_idx)"
   ]
  },
  {
   "cell_type": "code",
   "execution_count": 4,
   "id": "b3daaf6f",
   "metadata": {},
   "outputs": [
    {
     "data": {
      "image/svg+xml": [
       "<svg baseProfile=\"full\" height=\"200px\" version=\"1.1\" viewBox=\"0 0 200 200\" width=\"200px\" xml:space=\"preserve\" xmlns=\"http://www.w3.org/2000/svg\" xmlns:rdkit=\"http://www.rdkit.org/xml\" xmlns:xlink=\"http://www.w3.org/1999/xlink\">\n",
       "<!-- END OF HEADER -->\n",
       "<rect height=\"200\" style=\"opacity:1.0;fill:#FFFFFF;stroke:none\" width=\"200\" x=\"0\" y=\"0\"> </rect>\n",
       "<path d=\"M 26.0086,88.4557 L 52.3161,112.411\" style=\"fill:none;fill-rule:evenodd;stroke:#FF7F7F;stroke-width:7.6px;stroke-linecap:butt;stroke-linejoin:miter;stroke-opacity:1\"/>\n",
       "<ellipse cx=\"21.7105\" cy=\"88.534\" rx=\"12.6196\" ry=\"7.31615\" style=\"fill:#FF7F7F;fill-rule:evenodd;stroke:#FF7F7F;stroke-width:1px;stroke-linecap:butt;stroke-linejoin:miter;stroke-opacity:1\"/>\n",
       "<ellipse cx=\"52.3161\" cy=\"112.411\" rx=\"7.11596\" ry=\"7.11596\" style=\"fill:#FF7F7F;fill-rule:evenodd;stroke:#FF7F7F;stroke-width:1px;stroke-linecap:butt;stroke-linejoin:miter;stroke-opacity:1\"/>\n",
       "<path class=\"bond-0\" d=\"M 31.5234,93.4774 L 41.9198,102.944\" style=\"fill:none;fill-rule:evenodd;stroke:#FF0000;stroke-width:2.0px;stroke-linecap:butt;stroke-linejoin:miter;stroke-opacity:1\"/>\n",
       "<path class=\"bond-0\" d=\"M 41.9198,102.944 L 52.3161,112.411\" style=\"fill:none;fill-rule:evenodd;stroke:#000000;stroke-width:2.0px;stroke-linecap:butt;stroke-linejoin:miter;stroke-opacity:1\"/>\n",
       "<path class=\"bond-1\" d=\"M 52.3161,112.411 L 86.2154,101.605\" style=\"fill:none;fill-rule:evenodd;stroke:#000000;stroke-width:2.0px;stroke-linecap:butt;stroke-linejoin:miter;stroke-opacity:1\"/>\n",
       "<path class=\"bond-2\" d=\"M 86.2154,101.605 L 93.8072,66.8446\" style=\"fill:none;fill-rule:evenodd;stroke:#000000;stroke-width:2.0px;stroke-linecap:butt;stroke-linejoin:miter;stroke-opacity:1\"/>\n",
       "<path class=\"bond-9\" d=\"M 86.2154,101.605 L 112.523,125.56\" style=\"fill:none;fill-rule:evenodd;stroke:#000000;stroke-width:2.0px;stroke-linecap:butt;stroke-linejoin:miter;stroke-opacity:1\"/>\n",
       "<path class=\"bond-3\" d=\"M 93.8072,66.8446 L 127.706,56.0391\" style=\"fill:none;fill-rule:evenodd;stroke:#000000;stroke-width:2.0px;stroke-linecap:butt;stroke-linejoin:miter;stroke-opacity:1\"/>\n",
       "<path class=\"bond-4\" d=\"M 127.706,56.0391 L 154.014,79.994\" style=\"fill:none;fill-rule:evenodd;stroke:#000000;stroke-width:2.0px;stroke-linecap:butt;stroke-linejoin:miter;stroke-opacity:1\"/>\n",
       "<path class=\"bond-5\" d=\"M 154.014,79.994 L 169.021,75.2105\" style=\"fill:none;fill-rule:evenodd;stroke:#000000;stroke-width:2.0px;stroke-linecap:butt;stroke-linejoin:miter;stroke-opacity:1\"/>\n",
       "<path class=\"bond-5\" d=\"M 169.021,75.2105 L 184.028,70.4269\" style=\"fill:none;fill-rule:evenodd;stroke:#33CCCC;stroke-width:2.0px;stroke-linecap:butt;stroke-linejoin:miter;stroke-opacity:1\"/>\n",
       "<path class=\"bond-6\" d=\"M 154.014,79.994 L 146.422,114.754\" style=\"fill:none;fill-rule:evenodd;stroke:#000000;stroke-width:2.0px;stroke-linecap:butt;stroke-linejoin:miter;stroke-opacity:1\"/>\n",
       "<path class=\"bond-7\" d=\"M 146.422,114.754 L 156.819,124.221\" style=\"fill:none;fill-rule:evenodd;stroke:#000000;stroke-width:2.0px;stroke-linecap:butt;stroke-linejoin:miter;stroke-opacity:1\"/>\n",
       "<path class=\"bond-7\" d=\"M 156.819,124.221 L 167.215,133.688\" style=\"fill:none;fill-rule:evenodd;stroke:#FF0000;stroke-width:2.0px;stroke-linecap:butt;stroke-linejoin:miter;stroke-opacity:1\"/>\n",
       "<path class=\"bond-8\" d=\"M 146.422,114.754 L 112.523,125.56\" style=\"fill:none;fill-rule:evenodd;stroke:#000000;stroke-width:2.0px;stroke-linecap:butt;stroke-linejoin:miter;stroke-opacity:1\"/>\n",
       "<path class=\"atom-0\" d=\"M 12.7871 83.4745 L 14.1534 83.4745 L 14.1534 87.7584 L 19.3053 87.7584 L 19.3053 83.4745 L 20.6716 83.4745 L 20.6716 93.5507 L 19.3053 93.5507 L 19.3053 88.8969 L 14.1534 88.8969 L 14.1534 93.5507 L 12.7871 93.5507 L 12.7871 83.4745 \" fill=\"#FF0000\"/>\n",
       "<path class=\"atom-0\" d=\"M 21.3832 88.4842 Q 21.3832 86.0648, 22.5787 84.7127 Q 23.7741 83.3607, 26.0086 83.3607 Q 28.243 83.3607, 29.4385 84.7127 Q 30.6339 86.0648, 30.6339 88.4842 Q 30.6339 90.9321, 29.4242 92.3268 Q 28.2145 93.7073, 26.0086 93.7073 Q 23.7884 93.7073, 22.5787 92.3268 Q 21.3832 90.9463, 21.3832 88.4842 M 26.0086 92.5687 Q 27.5456 92.5687, 28.3711 91.544 Q 29.2107 90.5051, 29.2107 88.4842 Q 29.2107 86.5059, 28.3711 85.5097 Q 27.5456 84.4992, 26.0086 84.4992 Q 24.4715 84.4992, 23.6318 85.4955 Q 22.8064 86.4917, 22.8064 88.4842 Q 22.8064 90.5193, 23.6318 91.544 Q 24.4715 92.5687, 26.0086 92.5687 \" fill=\"#FF0000\"/>\n",
       "<path class=\"atom-6\" d=\"M 184.917 64.1504 L 190.909 64.1504 L 190.909 65.3032 L 186.269 65.3032 L 186.269 68.363 L 190.397 68.363 L 190.397 69.53 L 186.269 69.53 L 186.269 74.2266 L 184.917 74.2266 L 184.917 64.1504 \" fill=\"#33CCCC\"/>\n",
       "<path class=\"atom-8\" d=\"M 168.104 138.738 Q 168.104 136.318, 169.3 134.966 Q 170.495 133.614, 172.73 133.614 Q 174.964 133.614, 176.16 134.966 Q 177.355 136.318, 177.355 138.738 Q 177.355 141.186, 176.145 142.58 Q 174.936 143.961, 172.73 143.961 Q 170.51 143.961, 169.3 142.58 Q 168.104 141.2, 168.104 138.738 M 172.73 142.822 Q 174.267 142.822, 175.092 141.798 Q 175.932 140.759, 175.932 138.738 Q 175.932 136.76, 175.092 135.763 Q 174.267 134.753, 172.73 134.753 Q 171.193 134.753, 170.353 135.749 Q 169.528 136.745, 169.528 138.738 Q 169.528 140.773, 170.353 141.798 Q 171.193 142.822, 172.73 142.822 \" fill=\"#FF0000\"/>\n",
       "<path class=\"atom-8\" d=\"M 178.565 133.728 L 179.931 133.728 L 179.931 138.012 L 185.083 138.012 L 185.083 133.728 L 186.449 133.728 L 186.449 143.804 L 185.083 143.804 L 185.083 139.15 L 179.931 139.15 L 179.931 143.804 L 178.565 143.804 L 178.565 133.728 \" fill=\"#FF0000\"/>\n",
       "</svg>"
      ],
      "text/plain": [
       "<IPython.core.display.SVG object>"
      ]
     },
     "metadata": {},
     "output_type": "display_data"
    }
   ],
   "source": [
    "opt_sub_smi, opt_sub_smi_attri = sub_data_filter(sub_data, rm_sub_smi, sub_atom_num, sub_to_change_value, sub_connect_num, mode=mode)\n",
    "origin_smi, _, sub_change, optimized_mol_smi = sme_mol_opt(smi, 0, rm_atom_idx, rm_sub_smi, opt_sub_smi, sub_num=1)\n",
    "cleaned_smi, atom_idx = canonical_smi(optimized_mol_smi[0])\n",
    "mol_visualize(cleaned_smi, atom_idx)"
   ]
  },
  {
   "cell_type": "markdown",
   "id": "34769c3c",
   "metadata": {},
   "source": [
    "Clearly, we have obtained a new optimized molecular pair, as shown in the following figure.\n",
    "![Image text](../figure/example2.svg)"
   ]
  },
  {
   "cell_type": "markdown",
   "id": "96eaa75f",
   "metadata": {},
   "source": [
    "Through the steps outlined above, we started with molecule 'CC1CCC(C(C)C)C(O)C1' and proceeded with continuous optimization. During this process, we obtained three optimized molecular pairs, where the transition from the initial molecule to the final molecule represents a multi-site optimized molecule pair.\n",
    "![Image text](../figure/example3.svg)"
   ]
  },
  {
   "cell_type": "markdown",
   "id": "7d6c1a62",
   "metadata": {},
   "source": [
    "Clearly, we can continue to repeat the process outlined above, selecting different models to construct molecular pairs optimized for multiple properties. By employing this iterative optimization approach, we have constructed a substantial number of optimized molecular pairs. These pairs have been compiled into our training dataset."
   ]
  },
  {
   "cell_type": "code",
   "execution_count": null,
   "id": "8bc05440",
   "metadata": {},
   "outputs": [],
   "source": []
  }
 ],
 "metadata": {
  "kernelspec": {
   "display_name": "dgl071",
   "language": "python",
   "name": "dgl071"
  },
  "language_info": {
   "codemirror_mode": {
    "name": "ipython",
    "version": 3
   },
   "file_extension": ".py",
   "mimetype": "text/x-python",
   "name": "python",
   "nbconvert_exporter": "python",
   "pygments_lexer": "ipython3",
   "version": "3.7.0"
  }
 },
 "nbformat": 4,
 "nbformat_minor": 5
}
