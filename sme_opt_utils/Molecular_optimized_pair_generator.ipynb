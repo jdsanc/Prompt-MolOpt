{
 "cells": [
  {
   "cell_type": "markdown",
   "id": "a78c0b1a",
   "metadata": {},
   "source": [
    "**<big><center>Constructing Optimized Molecular Pairs with SME</center></big>** <br />\n",
    "    Here, we'll briefly explain how to construct optimized molecular pairs using the Substructure Mask Explanation (SME) approach.<br />\n",
    "**1. Detect the substructure for modification.**<br />\n",
    "    The process begins with utilizing SME to identify the most suitable substructures within a molecule for modification. Taking the enhancement of hydrophilicity (ESOL) as an example, this involves pinpointing the least hydrophilic substructures within the molecule's structure. As illustrated below, within the molecule 'CC1CCC(C(C)C)C(O)C1', the isopropyl group is identified as the substructure for modification. This identification aligns with our understanding that the isopropyl group contributes to hydrophobicity, making it a target for modifications aimed at increasing the molecule's overall hydrophilicity."
   ]
  },
  {
   "cell_type": "code",
   "execution_count": 1,
   "id": "6a5b2d9d",
   "metadata": {},
   "outputs": [
    {
     "name": "stderr",
     "output_type": "stream",
     "text": [
      "/home/jdsan/miniconda3/envs/Prompt-MolOpt/lib/python3.6/site-packages/tqdm/auto.py:22: TqdmWarning: IProgress not found. Please update jupyter and ipywidgets. See https://ipywidgets.readthedocs.io/en/stable/user_install.html\n",
      "  from .autonotebook import tqdm as notebook_tqdm\n",
      "Using backend: pytorch\n",
      "/home/jdsan/miniconda3/envs/Prompt-MolOpt/lib/python3.6/site-packages/dgl/base.py:45: DGLWarning: Recommend creating graphs by `dgl.graph(data)` instead of `dgl.DGLGraph(data)`.\n",
      "  return warnings.warn(message, category=category, stacklevel=1)\n",
      "RDKit WARNING: [20:30:07] WARNING: not removing hydrogen atom with dummy atom neighbors\n",
      "RDKit WARNING: [20:30:07] WARNING: not removing hydrogen atom with dummy atom neighbors\n",
      "RDKit WARNING: [20:30:07] WARNING: not removing hydrogen atom with dummy atom neighbors\n",
      "RDKit WARNING: [20:30:07] WARNING: not removing hydrogen atom with dummy atom neighbors\n",
      "RDKit WARNING: [20:30:07] WARNING: not removing hydrogen atom with dummy atom neighbors\n",
      "RDKit WARNING: [20:30:07] WARNING: not removing hydrogen atom with dummy atom neighbors\n"
     ]
    },
    {
     "name": "stdout",
     "output_type": "stream",
     "text": [
      "CC1CCC(C(C)C)C(O)C1 mol detect failed.\n",
      "-1 -1 -1 -1 -1 -1\n"
     ]
    },
    {
     "ename": "TypeError",
     "evalue": "argument of type 'int' is not iterable",
     "output_type": "error",
     "traceback": [
      "\u001b[0;31m---------------------------------------------------------------------------\u001b[0m",
      "\u001b[0;31mTypeError\u001b[0m                                 Traceback (most recent call last)",
      "\u001b[0;32m<ipython-input-1-d71db7c95b2c>\u001b[0m in \u001b[0;36m<module>\u001b[0;34m\u001b[0m\n\u001b[1;32m     57\u001b[0m                          lr=hyperparameter['lr'], classification=hyperparameter['classification'], mode=mode)\n\u001b[1;32m     58\u001b[0m \u001b[0mprint\u001b[0m\u001b[0;34m(\u001b[0m\u001b[0mpred\u001b[0m\u001b[0;34m,\u001b[0m \u001b[0mrm_sub_smi\u001b[0m\u001b[0;34m,\u001b[0m \u001b[0msub_atom_num\u001b[0m\u001b[0;34m,\u001b[0m \u001b[0mrm_atom_idx\u001b[0m\u001b[0;34m,\u001b[0m \u001b[0msub_to_change_value\u001b[0m\u001b[0;34m,\u001b[0m \u001b[0msub_connect_num\u001b[0m\u001b[0;34m)\u001b[0m\u001b[0;34m\u001b[0m\u001b[0;34m\u001b[0m\u001b[0m\n\u001b[0;32m---> 59\u001b[0;31m \u001b[0mmol_visualize\u001b[0m\u001b[0;34m(\u001b[0m\u001b[0msmi\u001b[0m\u001b[0;34m,\u001b[0m \u001b[0mrm_atom_idx\u001b[0m\u001b[0;34m)\u001b[0m\u001b[0;34m\u001b[0m\u001b[0;34m\u001b[0m\u001b[0m\n\u001b[0m",
      "\u001b[0;32m<ipython-input-1-d71db7c95b2c>\u001b[0m in \u001b[0;36mmol_visualize\u001b[0;34m(smi, remove_atom_index)\u001b[0m\n\u001b[1;32m     29\u001b[0m     \u001b[0mbonds_to_highlight\u001b[0m \u001b[0;34m=\u001b[0m \u001b[0;34m[\u001b[0m\u001b[0;34m]\u001b[0m\u001b[0;34m\u001b[0m\u001b[0;34m\u001b[0m\u001b[0m\n\u001b[1;32m     30\u001b[0m     \u001b[0;32mfor\u001b[0m \u001b[0mbond\u001b[0m \u001b[0;32min\u001b[0m \u001b[0mmol\u001b[0m\u001b[0;34m.\u001b[0m\u001b[0mGetBonds\u001b[0m\u001b[0;34m(\u001b[0m\u001b[0;34m)\u001b[0m\u001b[0;34m:\u001b[0m\u001b[0;34m\u001b[0m\u001b[0;34m\u001b[0m\u001b[0m\n\u001b[0;32m---> 31\u001b[0;31m         \u001b[0;32mif\u001b[0m \u001b[0mbond\u001b[0m\u001b[0;34m.\u001b[0m\u001b[0mGetBeginAtomIdx\u001b[0m\u001b[0;34m(\u001b[0m\u001b[0;34m)\u001b[0m \u001b[0;32min\u001b[0m \u001b[0matoms_to_highlight\u001b[0m \u001b[0;32mand\u001b[0m \u001b[0mbond\u001b[0m\u001b[0;34m.\u001b[0m\u001b[0mGetEndAtomIdx\u001b[0m\u001b[0;34m(\u001b[0m\u001b[0;34m)\u001b[0m \u001b[0;32min\u001b[0m \u001b[0matoms_to_highlight\u001b[0m\u001b[0;34m:\u001b[0m\u001b[0;34m\u001b[0m\u001b[0;34m\u001b[0m\u001b[0m\n\u001b[0m\u001b[1;32m     32\u001b[0m             \u001b[0mbonds_to_highlight\u001b[0m\u001b[0;34m.\u001b[0m\u001b[0mappend\u001b[0m\u001b[0;34m(\u001b[0m\u001b[0mbond\u001b[0m\u001b[0;34m.\u001b[0m\u001b[0mGetIdx\u001b[0m\u001b[0;34m(\u001b[0m\u001b[0;34m)\u001b[0m\u001b[0;34m)\u001b[0m\u001b[0;34m\u001b[0m\u001b[0;34m\u001b[0m\u001b[0m\n\u001b[1;32m     33\u001b[0m \u001b[0;34m\u001b[0m\u001b[0m\n",
      "\u001b[0;31mTypeError\u001b[0m: argument of type 'int' is not iterable"
     ]
    }
   ],
   "source": [
    "from opt_mol_pair_generator_double import SME_opt_sub_detect, sub_data_filter, sme_mol_opt\n",
    "import pickle as pkl\n",
    "import pandas as pd\n",
    "from rdkit import Chem\n",
    "from rdkit.Chem import Draw\n",
    "from rdkit.Chem.Draw import rdMolDraw2D\n",
    "from IPython.display import SVG\n",
    "import re\n",
    "import random\n",
    "\n",
    "random.seed(2046)\n",
    "def canonical_smi(smiles):\n",
    "    mol = Chem.MolFromSmiles(smiles, sanitize=False)\n",
    "    Chem.SanitizeMol(mol)\n",
    "    \n",
    "    atoms_marked_zero = [atom.GetIdx() for atom in mol.GetAtoms() if atom.GetAtomMapNum() == 0]\n",
    "    cleaned_smiles = re.sub(r'\\:\\d+\\]', ']', smiles)\n",
    "    return cleaned_smiles, atoms_marked_zero\n",
    "\n",
    "\n",
    "def mol_visualize(smi, remove_atom_index):\n",
    "    mol = Chem.MolFromSmiles(smi)  # 例如，使用苯的SMILES字符串\n",
    "\n",
    "    # BUG: show exactly what remove_atom_index is\n",
    "    #print(f\"remove_atom_index:\", {remove_atom_index}, \" type:\", type(remove_atom_index))\n",
    "\n",
    "    atoms_to_highlight = remove_atom_index\n",
    "\n",
    "    bonds_to_highlight = []\n",
    "    for bond in mol.GetBonds():\n",
    "        if bond.GetBeginAtomIdx() in atoms_to_highlight and bond.GetEndAtomIdx() in atoms_to_highlight:\n",
    "            bonds_to_highlight.append(bond.GetIdx())\n",
    "\n",
    "    drawer = rdMolDraw2D.MolDraw2DSVG(200, 200) \n",
    "    opts = drawer.drawOptions()\n",
    "\n",
    "    rdMolDraw2D.PrepareAndDrawMolecule(drawer, mol, highlightAtoms=atoms_to_highlight, highlightBonds=bonds_to_highlight)\n",
    "    drawer.FinishDrawing()\n",
    "\n",
    "    svg = drawer.GetDrawingText().replace('svg:', '')\n",
    "    display(SVG(svg))\n",
    "\n",
    "    \n",
    "model_name = 'ESOL'\n",
    "# load model hyperparameter\n",
    "with open('../result/hyperparameter_{}.pkl'.format(model_name), 'rb') as f:\n",
    "    hyperparameter = pkl.load(f)\n",
    "    \n",
    "# since the mode is higher(to improve the logS), we will use SME to detected the most  \n",
    "smi = 'CC1CCC(C(C)C)C(O)C1'\n",
    "mode = 'higher'\n",
    "sub_data = pd.read_csv('../prediction/summary/drugbank_ESOL_sub.csv')\n",
    "pred, rm_sub_smi, sub_atom_num, rm_atom_idx, sub_to_change_value, sub_connect_num\\\n",
    "    = SME_opt_sub_detect(smiles=smi, model_name=model_name,\n",
    "                         rgcn_hidden_feats=hyperparameter['rgcn_hidden_feats'],\n",
    "                         ffn_hidden_feats=hyperparameter['ffn_hidden_feats'],\n",
    "                         lr=hyperparameter['lr'], classification=hyperparameter['classification'], mode=mode)\n",
    "print(pred, rm_sub_smi, sub_atom_num, rm_atom_idx, sub_to_change_value, sub_connect_num)\n",
    "mol_visualize(smi, rm_atom_idx)"
   ]
  },
  {
   "cell_type": "code",
   "execution_count": 2,
   "id": "816978d0",
   "metadata": {},
   "outputs": [
    {
     "name": "stdout",
     "output_type": "stream",
     "text": [
      "CC1CCC(C(C)C)C(O)C1 mol detect failed.\n",
      "(-1, -1, -1, -1, -1, -1)\n",
      "[<class 'int'>, <class 'int'>, <class 'int'>, <class 'int'>, <class 'int'>, <class 'int'>]\n"
     ]
    },
    {
     "name": "stderr",
     "output_type": "stream",
     "text": [
      "RDKit WARNING: [20:31:37] WARNING: not removing hydrogen atom with dummy atom neighbors\n",
      "RDKit WARNING: [20:31:37] WARNING: not removing hydrogen atom with dummy atom neighbors\n",
      "RDKit WARNING: [20:31:37] WARNING: not removing hydrogen atom with dummy atom neighbors\n",
      "RDKit WARNING: [20:31:37] WARNING: not removing hydrogen atom with dummy atom neighbors\n",
      "RDKit WARNING: [20:31:37] WARNING: not removing hydrogen atom with dummy atom neighbors\n",
      "RDKit WARNING: [20:31:37] WARNING: not removing hydrogen atom with dummy atom neighbors\n"
     ]
    }
   ],
   "source": [
    "from opt_mol_pair_generator_double import SME_opt_sub_detect, sub_data_filter, sme_mol_opt\n",
    "\n",
    "model_name = 'ESOL'\n",
    "# load model hyperparameter\n",
    "with open('../result/hyperparameter_{}.pkl'.format(model_name), 'rb') as f:\n",
    "    hyperparameter = pkl.load(f)\n",
    "\n",
    "smi = 'CC1CCC(C(C)C)C(O)C1'\n",
    "mode = 'higher'\n",
    "\n",
    "result = SME_opt_sub_detect(\n",
    "    smiles=smi,\n",
    "    model_name=model_name,\n",
    "    rgcn_hidden_feats=hyperparameter['rgcn_hidden_feats'],\n",
    "    ffn_hidden_feats=hyperparameter['ffn_hidden_feats'],\n",
    "    lr=hyperparameter['lr'],\n",
    "    classification=hyperparameter['classification'],\n",
    "    mode=mode\n",
    ")\n",
    "print(result)               \n",
    "print([type(x) for x in result])"
   ]
  },
  {
   "cell_type": "markdown",
   "id": "348b9202",
   "metadata": {},
   "source": [
    "**2. Optimize the molecule through the substitution of substructures**<br />\n",
    "After identifying the substructures that require optimization, the process involves searching for more hydrophilic substructures within a pre-constructed Drugbank substructure dataset(with attribution) to replace the identified hydrophobic substructures. In selecting the optimized substructures, we consider detailed information such as the number of atoms in the substructures. For a more detailed selection process, please refer to the article. As shown below, in this case, the isopropyl group is replaced with a fluorine atom (F) to increase the molecule's hydrophilicity."
   ]
  },
  {
   "cell_type": "code",
   "execution_count": 14,
   "id": "3e9c99a3",
   "metadata": {},
   "outputs": [
    {
     "name": "stdout",
     "output_type": "stream",
     "text": [
      "-1 []\n"
     ]
    },
    {
     "ename": "TypeError",
     "evalue": "argument of type 'int' is not iterable",
     "output_type": "error",
     "traceback": [
      "\u001b[0;31m---------------------------------------------------------------------------\u001b[0m",
      "\u001b[0;31mTypeError\u001b[0m                                 Traceback (most recent call last)",
      "\u001b[0;32m<ipython-input-14-9198c3e81b60>\u001b[0m in \u001b[0;36m<module>\u001b[0;34m\u001b[0m\n\u001b[1;32m      1\u001b[0m \u001b[0mopt_sub_smi\u001b[0m\u001b[0;34m,\u001b[0m \u001b[0mopt_sub_smi_attri\u001b[0m \u001b[0;34m=\u001b[0m \u001b[0msub_data_filter\u001b[0m\u001b[0;34m(\u001b[0m\u001b[0msub_data\u001b[0m\u001b[0;34m,\u001b[0m \u001b[0mrm_sub_smi\u001b[0m\u001b[0;34m,\u001b[0m \u001b[0msub_atom_num\u001b[0m\u001b[0;34m,\u001b[0m \u001b[0msub_to_change_value\u001b[0m\u001b[0;34m,\u001b[0m \u001b[0msub_connect_num\u001b[0m\u001b[0;34m,\u001b[0m \u001b[0mmode\u001b[0m\u001b[0;34m=\u001b[0m\u001b[0mmode\u001b[0m\u001b[0;34m)\u001b[0m\u001b[0;34m\u001b[0m\u001b[0;34m\u001b[0m\u001b[0m\n\u001b[0;32m----> 2\u001b[0;31m \u001b[0morigin_smi\u001b[0m\u001b[0;34m,\u001b[0m \u001b[0m_\u001b[0m\u001b[0;34m,\u001b[0m \u001b[0msub_change\u001b[0m\u001b[0;34m,\u001b[0m \u001b[0moptimized_mol_smi\u001b[0m \u001b[0;34m=\u001b[0m \u001b[0msme_mol_opt\u001b[0m\u001b[0;34m(\u001b[0m\u001b[0msmi\u001b[0m\u001b[0;34m,\u001b[0m \u001b[0;36m0\u001b[0m\u001b[0;34m,\u001b[0m \u001b[0mrm_atom_idx\u001b[0m\u001b[0;34m,\u001b[0m \u001b[0mrm_sub_smi\u001b[0m\u001b[0;34m,\u001b[0m \u001b[0mopt_sub_smi\u001b[0m\u001b[0;34m,\u001b[0m \u001b[0msub_num\u001b[0m\u001b[0;34m=\u001b[0m\u001b[0;36m1\u001b[0m\u001b[0;34m)\u001b[0m\u001b[0;34m\u001b[0m\u001b[0;34m\u001b[0m\u001b[0m\n\u001b[0m\u001b[1;32m      3\u001b[0m \u001b[0mcleaned_smi\u001b[0m\u001b[0;34m,\u001b[0m \u001b[0matom_idx\u001b[0m \u001b[0;34m=\u001b[0m \u001b[0mcanonical_smi\u001b[0m\u001b[0;34m(\u001b[0m\u001b[0moptimized_mol_smi\u001b[0m\u001b[0;34m[\u001b[0m\u001b[0;36m0\u001b[0m\u001b[0;34m]\u001b[0m\u001b[0;34m)\u001b[0m\u001b[0;34m\u001b[0m\u001b[0;34m\u001b[0m\u001b[0m\n\u001b[1;32m      4\u001b[0m \u001b[0mmol_visualize\u001b[0m\u001b[0;34m(\u001b[0m\u001b[0mcleaned_smi\u001b[0m\u001b[0;34m,\u001b[0m \u001b[0matom_idx\u001b[0m\u001b[0;34m)\u001b[0m\u001b[0;34m\u001b[0m\u001b[0;34m\u001b[0m\u001b[0m\n",
      "\u001b[0;32m~/storage/prop/MolOpt/original/Prompt-MolOpt/sme_opt_utils/opt_mol_pair_generator_double.py\u001b[0m in \u001b[0;36msme_mol_opt\u001b[0;34m(origin_smi, origin_label, rm_atom_idx, rm_sub_smi, opt_sub_smi, sub_num, re_opt)\u001b[0m\n\u001b[1;32m    307\u001b[0m     \u001b[0morigin_mol\u001b[0m \u001b[0;34m=\u001b[0m \u001b[0mChem\u001b[0m\u001b[0;34m.\u001b[0m\u001b[0mMolFromSmiles\u001b[0m\u001b[0;34m(\u001b[0m\u001b[0morigin_smi\u001b[0m\u001b[0;34m)\u001b[0m\u001b[0;34m\u001b[0m\u001b[0;34m\u001b[0m\u001b[0m\n\u001b[1;32m    308\u001b[0m     \u001b[0matoms\u001b[0m \u001b[0;34m=\u001b[0m \u001b[0;34m[\u001b[0m\u001b[0ma\u001b[0m \u001b[0;32mfor\u001b[0m \u001b[0ma\u001b[0m \u001b[0;32min\u001b[0m \u001b[0morigin_mol\u001b[0m\u001b[0;34m.\u001b[0m\u001b[0mGetAtoms\u001b[0m\u001b[0;34m(\u001b[0m\u001b[0;34m)\u001b[0m\u001b[0;34m]\u001b[0m\u001b[0;34m\u001b[0m\u001b[0;34m\u001b[0m\u001b[0m\n\u001b[0;32m--> 309\u001b[0;31m     \u001b[0;34m[\u001b[0m\u001b[0ma\u001b[0m\u001b[0;34m.\u001b[0m\u001b[0mSetProp\u001b[0m\u001b[0;34m(\u001b[0m\u001b[0;34m'molAtomMapNumber'\u001b[0m\u001b[0;34m,\u001b[0m \u001b[0;34m'0'\u001b[0m\u001b[0;34m)\u001b[0m \u001b[0;32mfor\u001b[0m \u001b[0ma\u001b[0m \u001b[0;32min\u001b[0m \u001b[0matoms\u001b[0m \u001b[0;32mif\u001b[0m \u001b[0ma\u001b[0m\u001b[0;34m.\u001b[0m\u001b[0mGetIdx\u001b[0m\u001b[0;34m(\u001b[0m\u001b[0;34m)\u001b[0m \u001b[0;32min\u001b[0m \u001b[0mrm_atom_idx\u001b[0m\u001b[0;34m]\u001b[0m\u001b[0;34m\u001b[0m\u001b[0;34m\u001b[0m\u001b[0m\n\u001b[0m\u001b[1;32m    310\u001b[0m     \u001b[0;34m[\u001b[0m\u001b[0ma\u001b[0m\u001b[0;34m.\u001b[0m\u001b[0mSetProp\u001b[0m\u001b[0;34m(\u001b[0m\u001b[0;34m'molAtomMapNumber'\u001b[0m\u001b[0;34m,\u001b[0m \u001b[0;34m'1'\u001b[0m\u001b[0;34m)\u001b[0m \u001b[0;32mfor\u001b[0m \u001b[0ma\u001b[0m \u001b[0;32min\u001b[0m \u001b[0matoms\u001b[0m \u001b[0;32mif\u001b[0m \u001b[0ma\u001b[0m\u001b[0;34m.\u001b[0m\u001b[0mGetIdx\u001b[0m\u001b[0;34m(\u001b[0m\u001b[0;34m)\u001b[0m \u001b[0;32mnot\u001b[0m \u001b[0;32min\u001b[0m \u001b[0mrm_atom_idx\u001b[0m\u001b[0;34m]\u001b[0m\u001b[0;34m\u001b[0m\u001b[0;34m\u001b[0m\u001b[0m\n\u001b[1;32m    311\u001b[0m     \u001b[0mre_origin_smi\u001b[0m \u001b[0;34m=\u001b[0m \u001b[0mChem\u001b[0m\u001b[0;34m.\u001b[0m\u001b[0mMolToSmiles\u001b[0m\u001b[0;34m(\u001b[0m\u001b[0morigin_mol\u001b[0m\u001b[0;34m)\u001b[0m\u001b[0;34m\u001b[0m\u001b[0;34m\u001b[0m\u001b[0m\n",
      "\u001b[0;32m~/storage/prop/MolOpt/original/Prompt-MolOpt/sme_opt_utils/opt_mol_pair_generator_double.py\u001b[0m in \u001b[0;36m<listcomp>\u001b[0;34m(.0)\u001b[0m\n\u001b[1;32m    307\u001b[0m     \u001b[0morigin_mol\u001b[0m \u001b[0;34m=\u001b[0m \u001b[0mChem\u001b[0m\u001b[0;34m.\u001b[0m\u001b[0mMolFromSmiles\u001b[0m\u001b[0;34m(\u001b[0m\u001b[0morigin_smi\u001b[0m\u001b[0;34m)\u001b[0m\u001b[0;34m\u001b[0m\u001b[0;34m\u001b[0m\u001b[0m\n\u001b[1;32m    308\u001b[0m     \u001b[0matoms\u001b[0m \u001b[0;34m=\u001b[0m \u001b[0;34m[\u001b[0m\u001b[0ma\u001b[0m \u001b[0;32mfor\u001b[0m \u001b[0ma\u001b[0m \u001b[0;32min\u001b[0m \u001b[0morigin_mol\u001b[0m\u001b[0;34m.\u001b[0m\u001b[0mGetAtoms\u001b[0m\u001b[0;34m(\u001b[0m\u001b[0;34m)\u001b[0m\u001b[0;34m]\u001b[0m\u001b[0;34m\u001b[0m\u001b[0;34m\u001b[0m\u001b[0m\n\u001b[0;32m--> 309\u001b[0;31m     \u001b[0;34m[\u001b[0m\u001b[0ma\u001b[0m\u001b[0;34m.\u001b[0m\u001b[0mSetProp\u001b[0m\u001b[0;34m(\u001b[0m\u001b[0;34m'molAtomMapNumber'\u001b[0m\u001b[0;34m,\u001b[0m \u001b[0;34m'0'\u001b[0m\u001b[0;34m)\u001b[0m \u001b[0;32mfor\u001b[0m \u001b[0ma\u001b[0m \u001b[0;32min\u001b[0m \u001b[0matoms\u001b[0m \u001b[0;32mif\u001b[0m \u001b[0ma\u001b[0m\u001b[0;34m.\u001b[0m\u001b[0mGetIdx\u001b[0m\u001b[0;34m(\u001b[0m\u001b[0;34m)\u001b[0m \u001b[0;32min\u001b[0m \u001b[0mrm_atom_idx\u001b[0m\u001b[0;34m]\u001b[0m\u001b[0;34m\u001b[0m\u001b[0;34m\u001b[0m\u001b[0m\n\u001b[0m\u001b[1;32m    310\u001b[0m     \u001b[0;34m[\u001b[0m\u001b[0ma\u001b[0m\u001b[0;34m.\u001b[0m\u001b[0mSetProp\u001b[0m\u001b[0;34m(\u001b[0m\u001b[0;34m'molAtomMapNumber'\u001b[0m\u001b[0;34m,\u001b[0m \u001b[0;34m'1'\u001b[0m\u001b[0;34m)\u001b[0m \u001b[0;32mfor\u001b[0m \u001b[0ma\u001b[0m \u001b[0;32min\u001b[0m \u001b[0matoms\u001b[0m \u001b[0;32mif\u001b[0m \u001b[0ma\u001b[0m\u001b[0;34m.\u001b[0m\u001b[0mGetIdx\u001b[0m\u001b[0;34m(\u001b[0m\u001b[0;34m)\u001b[0m \u001b[0;32mnot\u001b[0m \u001b[0;32min\u001b[0m \u001b[0mrm_atom_idx\u001b[0m\u001b[0;34m]\u001b[0m\u001b[0;34m\u001b[0m\u001b[0;34m\u001b[0m\u001b[0m\n\u001b[1;32m    311\u001b[0m     \u001b[0mre_origin_smi\u001b[0m \u001b[0;34m=\u001b[0m \u001b[0mChem\u001b[0m\u001b[0;34m.\u001b[0m\u001b[0mMolToSmiles\u001b[0m\u001b[0;34m(\u001b[0m\u001b[0morigin_mol\u001b[0m\u001b[0;34m)\u001b[0m\u001b[0;34m\u001b[0m\u001b[0;34m\u001b[0m\u001b[0m\n",
      "\u001b[0;31mTypeError\u001b[0m: argument of type 'int' is not iterable"
     ]
    }
   ],
   "source": [
    "opt_sub_smi, opt_sub_smi_attri = sub_data_filter(sub_data, rm_sub_smi, sub_atom_num, sub_to_change_value, sub_connect_num, mode=mode)\n",
    "origin_smi, _, sub_change, optimized_mol_smi = sme_mol_opt(smi, 0, rm_atom_idx, rm_sub_smi, opt_sub_smi, sub_num=1)\n",
    "cleaned_smi, atom_idx = canonical_smi(optimized_mol_smi[0])\n",
    "mol_visualize(cleaned_smi, atom_idx)"
   ]
  },
  {
   "cell_type": "markdown",
   "id": "2512667f",
   "metadata": {},
   "source": [
    "**3. Use the prediction model to validate optimized molecular pairs to ensure they meet our requirements**<br />\n",
    "Using the ESOL model for prediction, it was observed that after optimization, the molecule's ESOL value improved from -2.637 to -0.962, indicating an enhancement in the molecule's hydrophilicity. This change, with a difference greater than 0.5, meets our predefined threshold for ESOL molecular optimization. Consequently, we have successfully constructed a pair of molecules optimized for ESOL.\n",
    "![Image text](../figure/example1.svg)"
   ]
  },
  {
   "cell_type": "markdown",
   "id": "b5630870",
   "metadata": {},
   "source": [
    "**Repeat the aforementioned steps to generate new optimized molecular pairs**<br />\n",
    "Using the optimized molecule as the starting point, we can repeat the aforementioned steps to generate new optimized molecular pairs. "
   ]
  },
  {
   "cell_type": "code",
   "execution_count": 9,
   "id": "72a5a010",
   "metadata": {},
   "outputs": [
    {
     "ename": "NameError",
     "evalue": "name 'cleaned_smi' is not defined",
     "output_type": "error",
     "traceback": [
      "\u001b[0;31m---------------------------------------------------------------------------\u001b[0m",
      "\u001b[0;31mNameError\u001b[0m                                 Traceback (most recent call last)",
      "\u001b[0;32m<ipython-input-9-fb7505e13c27>\u001b[0m in \u001b[0;36m<module>\u001b[0;34m\u001b[0m\n\u001b[0;32m----> 1\u001b[0;31m \u001b[0msmi\u001b[0m \u001b[0;34m=\u001b[0m \u001b[0mcleaned_smi\u001b[0m\u001b[0;34m\u001b[0m\u001b[0;34m\u001b[0m\u001b[0m\n\u001b[0m\u001b[1;32m      2\u001b[0m \u001b[0mpred\u001b[0m\u001b[0;34m,\u001b[0m \u001b[0mrm_sub_smi\u001b[0m\u001b[0;34m,\u001b[0m \u001b[0msub_atom_num\u001b[0m\u001b[0;34m,\u001b[0m \u001b[0mrm_atom_idx\u001b[0m\u001b[0;34m,\u001b[0m \u001b[0msub_to_change_value\u001b[0m\u001b[0;34m,\u001b[0m \u001b[0msub_connect_num\u001b[0m\u001b[0;31m\\\u001b[0m\u001b[0;34m\u001b[0m\u001b[0;34m\u001b[0m\u001b[0m\n\u001b[1;32m      3\u001b[0m     = SME_opt_sub_detect(smiles=smi, model_name=model_name,\n\u001b[1;32m      4\u001b[0m                          \u001b[0mrgcn_hidden_feats\u001b[0m\u001b[0;34m=\u001b[0m\u001b[0mhyperparameter\u001b[0m\u001b[0;34m[\u001b[0m\u001b[0;34m'rgcn_hidden_feats'\u001b[0m\u001b[0;34m]\u001b[0m\u001b[0;34m,\u001b[0m\u001b[0;34m\u001b[0m\u001b[0;34m\u001b[0m\u001b[0m\n\u001b[1;32m      5\u001b[0m                          \u001b[0mffn_hidden_feats\u001b[0m\u001b[0;34m=\u001b[0m\u001b[0mhyperparameter\u001b[0m\u001b[0;34m[\u001b[0m\u001b[0;34m'ffn_hidden_feats'\u001b[0m\u001b[0;34m]\u001b[0m\u001b[0;34m,\u001b[0m\u001b[0;34m\u001b[0m\u001b[0;34m\u001b[0m\u001b[0m\n",
      "\u001b[0;31mNameError\u001b[0m: name 'cleaned_smi' is not defined"
     ]
    }
   ],
   "source": [
    "smi = cleaned_smi\n",
    "pred, rm_sub_smi, sub_atom_num, rm_atom_idx, sub_to_change_value, sub_connect_num\\\n",
    "    = SME_opt_sub_detect(smiles=smi, model_name=model_name,\n",
    "                         rgcn_hidden_feats=hyperparameter['rgcn_hidden_feats'],\n",
    "                         ffn_hidden_feats=hyperparameter['ffn_hidden_feats'],\n",
    "                         lr=hyperparameter['lr'], classification=hyperparameter['classification'], mode=mode)\n",
    "print(pred, rm_sub_smi, sub_atom_num, rm_atom_idx, sub_to_change_value, sub_connect_num)\n",
    "mol_visualize(smi, rm_atom_idx)"
   ]
  },
  {
   "cell_type": "code",
   "execution_count": 4,
   "id": "b3daaf6f",
   "metadata": {},
   "outputs": [
    {
     "data": {
      "image/svg+xml": [
       "<svg baseProfile=\"full\" height=\"200px\" version=\"1.1\" viewBox=\"0 0 200 200\" width=\"200px\" xml:space=\"preserve\" xmlns=\"http://www.w3.org/2000/svg\" xmlns:rdkit=\"http://www.rdkit.org/xml\" xmlns:xlink=\"http://www.w3.org/1999/xlink\">\n",
       "<!-- END OF HEADER -->\n",
       "<rect height=\"200\" style=\"opacity:1.0;fill:#FFFFFF;stroke:none\" width=\"200\" x=\"0\" y=\"0\"> </rect>\n",
       "<path d=\"M 26.0086,88.4557 L 52.3161,112.411\" style=\"fill:none;fill-rule:evenodd;stroke:#FF7F7F;stroke-width:7.6px;stroke-linecap:butt;stroke-linejoin:miter;stroke-opacity:1\"/>\n",
       "<ellipse cx=\"21.7105\" cy=\"88.534\" rx=\"12.6196\" ry=\"7.31615\" style=\"fill:#FF7F7F;fill-rule:evenodd;stroke:#FF7F7F;stroke-width:1px;stroke-linecap:butt;stroke-linejoin:miter;stroke-opacity:1\"/>\n",
       "<ellipse cx=\"52.3161\" cy=\"112.411\" rx=\"7.11596\" ry=\"7.11596\" style=\"fill:#FF7F7F;fill-rule:evenodd;stroke:#FF7F7F;stroke-width:1px;stroke-linecap:butt;stroke-linejoin:miter;stroke-opacity:1\"/>\n",
       "<path class=\"bond-0\" d=\"M 31.5234,93.4774 L 41.9198,102.944\" style=\"fill:none;fill-rule:evenodd;stroke:#FF0000;stroke-width:2.0px;stroke-linecap:butt;stroke-linejoin:miter;stroke-opacity:1\"/>\n",
       "<path class=\"bond-0\" d=\"M 41.9198,102.944 L 52.3161,112.411\" style=\"fill:none;fill-rule:evenodd;stroke:#000000;stroke-width:2.0px;stroke-linecap:butt;stroke-linejoin:miter;stroke-opacity:1\"/>\n",
       "<path class=\"bond-1\" d=\"M 52.3161,112.411 L 86.2154,101.605\" style=\"fill:none;fill-rule:evenodd;stroke:#000000;stroke-width:2.0px;stroke-linecap:butt;stroke-linejoin:miter;stroke-opacity:1\"/>\n",
       "<path class=\"bond-2\" d=\"M 86.2154,101.605 L 93.8072,66.8446\" style=\"fill:none;fill-rule:evenodd;stroke:#000000;stroke-width:2.0px;stroke-linecap:butt;stroke-linejoin:miter;stroke-opacity:1\"/>\n",
       "<path class=\"bond-9\" d=\"M 86.2154,101.605 L 112.523,125.56\" style=\"fill:none;fill-rule:evenodd;stroke:#000000;stroke-width:2.0px;stroke-linecap:butt;stroke-linejoin:miter;stroke-opacity:1\"/>\n",
       "<path class=\"bond-3\" d=\"M 93.8072,66.8446 L 127.706,56.0391\" style=\"fill:none;fill-rule:evenodd;stroke:#000000;stroke-width:2.0px;stroke-linecap:butt;stroke-linejoin:miter;stroke-opacity:1\"/>\n",
       "<path class=\"bond-4\" d=\"M 127.706,56.0391 L 154.014,79.994\" style=\"fill:none;fill-rule:evenodd;stroke:#000000;stroke-width:2.0px;stroke-linecap:butt;stroke-linejoin:miter;stroke-opacity:1\"/>\n",
       "<path class=\"bond-5\" d=\"M 154.014,79.994 L 169.021,75.2105\" style=\"fill:none;fill-rule:evenodd;stroke:#000000;stroke-width:2.0px;stroke-linecap:butt;stroke-linejoin:miter;stroke-opacity:1\"/>\n",
       "<path class=\"bond-5\" d=\"M 169.021,75.2105 L 184.028,70.4269\" style=\"fill:none;fill-rule:evenodd;stroke:#33CCCC;stroke-width:2.0px;stroke-linecap:butt;stroke-linejoin:miter;stroke-opacity:1\"/>\n",
       "<path class=\"bond-6\" d=\"M 154.014,79.994 L 146.422,114.754\" style=\"fill:none;fill-rule:evenodd;stroke:#000000;stroke-width:2.0px;stroke-linecap:butt;stroke-linejoin:miter;stroke-opacity:1\"/>\n",
       "<path class=\"bond-7\" d=\"M 146.422,114.754 L 156.819,124.221\" style=\"fill:none;fill-rule:evenodd;stroke:#000000;stroke-width:2.0px;stroke-linecap:butt;stroke-linejoin:miter;stroke-opacity:1\"/>\n",
       "<path class=\"bond-7\" d=\"M 156.819,124.221 L 167.215,133.688\" style=\"fill:none;fill-rule:evenodd;stroke:#FF0000;stroke-width:2.0px;stroke-linecap:butt;stroke-linejoin:miter;stroke-opacity:1\"/>\n",
       "<path class=\"bond-8\" d=\"M 146.422,114.754 L 112.523,125.56\" style=\"fill:none;fill-rule:evenodd;stroke:#000000;stroke-width:2.0px;stroke-linecap:butt;stroke-linejoin:miter;stroke-opacity:1\"/>\n",
       "<path class=\"atom-0\" d=\"M 12.7871 83.4745 L 14.1534 83.4745 L 14.1534 87.7584 L 19.3053 87.7584 L 19.3053 83.4745 L 20.6716 83.4745 L 20.6716 93.5507 L 19.3053 93.5507 L 19.3053 88.8969 L 14.1534 88.8969 L 14.1534 93.5507 L 12.7871 93.5507 L 12.7871 83.4745 \" fill=\"#FF0000\"/>\n",
       "<path class=\"atom-0\" d=\"M 21.3832 88.4842 Q 21.3832 86.0648, 22.5787 84.7127 Q 23.7741 83.3607, 26.0086 83.3607 Q 28.243 83.3607, 29.4385 84.7127 Q 30.6339 86.0648, 30.6339 88.4842 Q 30.6339 90.9321, 29.4242 92.3268 Q 28.2145 93.7073, 26.0086 93.7073 Q 23.7884 93.7073, 22.5787 92.3268 Q 21.3832 90.9463, 21.3832 88.4842 M 26.0086 92.5687 Q 27.5456 92.5687, 28.3711 91.544 Q 29.2107 90.5051, 29.2107 88.4842 Q 29.2107 86.5059, 28.3711 85.5097 Q 27.5456 84.4992, 26.0086 84.4992 Q 24.4715 84.4992, 23.6318 85.4955 Q 22.8064 86.4917, 22.8064 88.4842 Q 22.8064 90.5193, 23.6318 91.544 Q 24.4715 92.5687, 26.0086 92.5687 \" fill=\"#FF0000\"/>\n",
       "<path class=\"atom-6\" d=\"M 184.917 64.1504 L 190.909 64.1504 L 190.909 65.3032 L 186.269 65.3032 L 186.269 68.363 L 190.397 68.363 L 190.397 69.53 L 186.269 69.53 L 186.269 74.2266 L 184.917 74.2266 L 184.917 64.1504 \" fill=\"#33CCCC\"/>\n",
       "<path class=\"atom-8\" d=\"M 168.104 138.738 Q 168.104 136.318, 169.3 134.966 Q 170.495 133.614, 172.73 133.614 Q 174.964 133.614, 176.16 134.966 Q 177.355 136.318, 177.355 138.738 Q 177.355 141.186, 176.145 142.58 Q 174.936 143.961, 172.73 143.961 Q 170.51 143.961, 169.3 142.58 Q 168.104 141.2, 168.104 138.738 M 172.73 142.822 Q 174.267 142.822, 175.092 141.798 Q 175.932 140.759, 175.932 138.738 Q 175.932 136.76, 175.092 135.763 Q 174.267 134.753, 172.73 134.753 Q 171.193 134.753, 170.353 135.749 Q 169.528 136.745, 169.528 138.738 Q 169.528 140.773, 170.353 141.798 Q 171.193 142.822, 172.73 142.822 \" fill=\"#FF0000\"/>\n",
       "<path class=\"atom-8\" d=\"M 178.565 133.728 L 179.931 133.728 L 179.931 138.012 L 185.083 138.012 L 185.083 133.728 L 186.449 133.728 L 186.449 143.804 L 185.083 143.804 L 185.083 139.15 L 179.931 139.15 L 179.931 143.804 L 178.565 143.804 L 178.565 133.728 \" fill=\"#FF0000\"/>\n",
       "</svg>"
      ],
      "text/plain": [
       "<IPython.core.display.SVG object>"
      ]
     },
     "metadata": {},
     "output_type": "display_data"
    }
   ],
   "source": [
    "opt_sub_smi, opt_sub_smi_attri = sub_data_filter(sub_data, rm_sub_smi, sub_atom_num, sub_to_change_value, sub_connect_num, mode=mode)\n",
    "origin_smi, _, sub_change, optimized_mol_smi = sme_mol_opt(smi, 0, rm_atom_idx, rm_sub_smi, opt_sub_smi, sub_num=1)\n",
    "cleaned_smi, atom_idx = canonical_smi(optimized_mol_smi[0])\n",
    "mol_visualize(cleaned_smi, atom_idx)"
   ]
  },
  {
   "cell_type": "markdown",
   "id": "34769c3c",
   "metadata": {},
   "source": [
    "Clearly, we have obtained a new optimized molecular pair, as shown in the following figure.\n",
    "![Image text](../figure/example2.svg)"
   ]
  },
  {
   "cell_type": "markdown",
   "id": "96eaa75f",
   "metadata": {},
   "source": [
    "Through the steps outlined above, we started with molecule 'CC1CCC(C(C)C)C(O)C1' and proceeded with continuous optimization. During this process, we obtained three optimized molecular pairs, where the transition from the initial molecule to the final molecule represents a multi-site optimized molecule pair.\n",
    "![Image text](../figure/example3.svg)"
   ]
  },
  {
   "cell_type": "markdown",
   "id": "7d6c1a62",
   "metadata": {},
   "source": [
    "Clearly, we can continue to repeat the process outlined above, selecting different models to construct molecular pairs optimized for multiple properties. By employing this iterative optimization approach, we have constructed a substantial number of optimized molecular pairs. These pairs have been compiled into our training dataset."
   ]
  },
  {
   "cell_type": "code",
   "execution_count": null,
   "id": "8bc05440",
   "metadata": {},
   "outputs": [],
   "source": []
  }
 ],
 "metadata": {
  "kernelspec": {
   "display_name": "Prompt-MolOpt",
   "language": "python",
   "name": "python3"
  },
  "language_info": {
   "codemirror_mode": {
    "name": "ipython",
    "version": 3
   },
   "file_extension": ".py",
   "mimetype": "text/x-python",
   "name": "python",
   "nbconvert_exporter": "python",
   "pygments_lexer": "ipython3",
   "version": "3.6.13"
  }
 },
 "nbformat": 4,
 "nbformat_minor": 5
}
